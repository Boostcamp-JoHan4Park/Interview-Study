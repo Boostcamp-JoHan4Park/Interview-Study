{
 "cells": [
  {
   "cell_type": "markdown",
   "source": [
    "# Imstall and Import Dependencies"
   ],
   "metadata": {}
  },
  {
   "cell_type": "code",
   "execution_count": 1,
   "source": [
    "# !pip cuda ~"
   ],
   "outputs": [],
   "metadata": {}
  },
  {
   "cell_type": "markdown",
   "source": [
    "!git clone http://github.com/ultralytics/yolo5"
   ],
   "metadata": {}
  },
  {
   "cell_type": "code",
   "execution_count": null,
   "source": [
    "!cd yolov5 & pip install -r requirements.txt"
   ],
   "outputs": [],
   "metadata": {}
  },
  {
   "cell_type": "code",
   "execution_count": null,
   "source": [
    "import torch\r\n",
    "from matplotlib import pyplot as plt\r\n",
    "import numpy as np\r\n",
    "import cv2"
   ],
   "outputs": [],
   "metadata": {}
  },
  {
   "cell_type": "markdown",
   "source": [
    "# 2. Load Model"
   ],
   "metadata": {}
  },
  {
   "cell_type": "code",
   "execution_count": null,
   "source": [
    "model = torch.hub.load('ultralytics/yolo5', 'yolov5s')"
   ],
   "outputs": [],
   "metadata": {}
  },
  {
   "cell_type": "code",
   "execution_count": null,
   "source": [
    "model"
   ],
   "outputs": [],
   "metadata": {}
  },
  {
   "cell_type": "markdown",
   "source": [
    "# Make Detections"
   ],
   "metadata": {}
  },
  {
   "cell_type": "code",
   "execution_count": null,
   "source": [
    "img = 'https://ultralytics.com/images/zidane.jpg'"
   ],
   "outputs": [],
   "metadata": {}
  },
  {
   "cell_type": "code",
   "execution_count": null,
   "source": [
    "results = model(img)\r\n",
    "results.print()"
   ],
   "outputs": [],
   "metadata": {}
  },
  {
   "cell_type": "code",
   "execution_count": null,
   "source": [
    "%matplotlib inline\r\n",
    "plt.imshow(np.squeeze(results.render()))\r\n",
    "plt.show()"
   ],
   "outputs": [],
   "metadata": {}
  },
  {
   "cell_type": "code",
   "execution_count": null,
   "source": [
    "results.xyxy\r\n",
    "results.show()\r\n",
    "results.render()"
   ],
   "outputs": [],
   "metadata": {}
  },
  {
   "cell_type": "code",
   "execution_count": null,
   "source": [
    "plt.imshow(np.squeeze(results.render()).shape)"
   ],
   "outputs": [],
   "metadata": {}
  },
  {
   "cell_type": "code",
   "execution_count": null,
   "source": [
    "results.render()"
   ],
   "outputs": [],
   "metadata": {}
  },
  {
   "cell_type": "markdown",
   "source": [
    "# Real Time Detections"
   ],
   "metadata": {}
  },
  {
   "cell_type": "code",
   "execution_count": null,
   "source": [
    "cap = cv2.VideoCapture(0)\r\n",
    "while cap.isOpend():\r\n",
    "    ret, frame = cap.read()\r\n",
    "\r\n",
    "    # Make detection\r\n",
    "    results = model(frame)\r\n",
    "\r\n",
    "    cv2.imshow('YOLO', np.squeeze(results.render()))\r\n",
    "\r\n",
    "    if cv2.waitKey(10) & 0xFF == ord('q'):\r\n",
    "        break\r\n",
    "\r\n",
    "cap.release()\r\n",
    "cap.destroyAllWindows()"
   ],
   "outputs": [],
   "metadata": {}
  },
  {
   "cell_type": "markdown",
   "source": [
    "# Train from scratch"
   ],
   "metadata": {}
  },
  {
   "cell_type": "code",
   "execution_count": null,
   "source": [
    "import uuid # unique identifier\r\n",
    "import os\r\n",
    "import time"
   ],
   "outputs": [],
   "metadata": {}
  },
  {
   "cell_type": "code",
   "execution_count": null,
   "source": [
    "IMAGES_PATH = os.path.join('data','images') # /data/images\r\n",
    "\r\n",
    "labels = ['awake','drowsy']\r\n",
    "\r\n",
    "number_imgs = 20"
   ],
   "outputs": [],
   "metadata": {}
  },
  {
   "cell_type": "code",
   "execution_count": null,
   "source": [
    "cap = cv2.VideoCapture(0)\r\n",
    "\r\n",
    "\r\n",
    "# Loop through labels\r\n",
    "for label in labels:\r\n",
    "    print('Colleting images for {}'.format(label))\r\n",
    "    time.sleep(5)\r\n",
    "\r\n",
    "    # Loop through image range\r\n",
    "    for img_num in range(number_imgs):\r\n",
    "        print('Collecting images for {}, image number {}'.format(label, img_num))\r\n",
    "\r\n",
    "        #webcam feed\r\n",
    "        ret, frame = cap.read()\r\n",
    "\r\n",
    "        # Naming out image path\r\n",
    "        imgname = os.path.join(IMAGES_PATH, label+'.'+str(uuid.uuid1())+'.jpg')\r\n",
    "        \r\n",
    "        # Writes out image to file\r\n",
    "        cv2.imwrite(imgname, frame)\r\n",
    "\r\n",
    "        # Render to the screen\r\n",
    "        cv2.imshow('Image Collection',frame)\r\n",
    "\r\n",
    "        # 2 second delay between captures\r\n",
    "        time.sleep(2)\r\n",
    "\r\n",
    "    if cv2. waitKey(10) & 0xFF == ord('q'):\r\n",
    "        break\r\n",
    "\r\n",
    "cap.release()\r\n",
    "cap.destoryAllWindows()\r\n"
   ],
   "outputs": [],
   "metadata": {}
  },
  {
   "cell_type": "code",
   "execution_count": null,
   "source": [
    "# github.com/tzutalin/labelImg\r\n",
    "# git clone https://github.com/tzutalin/labelImg"
   ],
   "outputs": [],
   "metadata": {}
  },
  {
   "cell_type": "code",
   "execution_count": null,
   "source": [
    "!pip install pyqt5 lxml --upgrade\r\n",
    "!cd labelImg && pyrcc5 -o libs/resources.py resources.qrc"
   ],
   "outputs": [],
   "metadata": {}
  },
  {
   "cell_type": "code",
   "execution_count": null,
   "source": [],
   "outputs": [],
   "metadata": {}
  }
 ],
 "metadata": {
  "orig_nbformat": 4,
  "language_info": {
   "name": "python",
   "version": "3.7.6",
   "mimetype": "text/x-python",
   "codemirror_mode": {
    "name": "ipython",
    "version": 3
   },
   "pygments_lexer": "ipython3",
   "nbconvert_exporter": "python",
   "file_extension": ".py"
  },
  "kernelspec": {
   "name": "python3",
   "display_name": "Python 3.7.6 64-bit ('base': conda)"
  },
  "interpreter": {
   "hash": "28e67e1ad1f609186399683142f78c5abb7e858ec2bc8669c6aa0146fe61f56f"
  }
 },
 "nbformat": 4,
 "nbformat_minor": 2
}